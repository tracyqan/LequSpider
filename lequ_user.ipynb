{
 "cells": [
  {
   "cell_type": "code",
   "execution_count": 60,
   "metadata": {},
   "outputs": [],
   "source": [
    "import pandas as pd\n",
    "import pymysql\n",
    "import matplotlib.pyplot as plt\n",
    "from matplotlib import dates as mdates\n",
    "%matplotlib inline"
   ]
  },
  {
   "cell_type": "code",
   "execution_count": 61,
   "metadata": {},
   "outputs": [],
   "source": [
    "conn = pymysql.Connect(host='localhost', port=3306, user='root', passwd='root', db='lequ', charset='utf8')\n",
    "sql = 'select * from lequ_user'\n",
    "plt.rcParams['font.sans-serif']=['SimHei']#用来正常显示中文标签"
   ]
  },
  {
   "cell_type": "code",
   "execution_count": 165,
   "metadata": {},
   "outputs": [],
   "source": [
    "data = pd.read_sql(sql, conn)"
   ]
  },
  {
   "cell_type": "code",
   "execution_count": 63,
   "metadata": {},
   "outputs": [
    {
     "data": {
      "text/html": [
       "<div>\n",
       "<style scoped>\n",
       "    .dataframe tbody tr th:only-of-type {\n",
       "        vertical-align: middle;\n",
       "    }\n",
       "\n",
       "    .dataframe tbody tr th {\n",
       "        vertical-align: top;\n",
       "    }\n",
       "\n",
       "    .dataframe thead th {\n",
       "        text-align: right;\n",
       "    }\n",
       "</style>\n",
       "<table border=\"1\" class=\"dataframe\">\n",
       "  <thead>\n",
       "    <tr style=\"text-align: right;\">\n",
       "      <th></th>\n",
       "      <th>id</th>\n",
       "      <th>name</th>\n",
       "      <th>create_time</th>\n",
       "      <th>active_time</th>\n",
       "      <th>last_login</th>\n",
       "      <th>last_activity</th>\n",
       "      <th>area</th>\n",
       "      <th>signature</th>\n",
       "      <th>reply_times</th>\n",
       "      <th>theme_nums</th>\n",
       "      <th>identity</th>\n",
       "      <th>forum_money</th>\n",
       "      <th>uid</th>\n",
       "      <th>friend_nums</th>\n",
       "    </tr>\n",
       "  </thead>\n",
       "  <tbody>\n",
       "    <tr>\n",
       "      <th>0</th>\n",
       "      <td>1</td>\n",
       "      <td>乐趣—小帅</td>\n",
       "      <td>1970-1-1 08:00</td>\n",
       "      <td>5070</td>\n",
       "      <td>2019-4-18 16:05</td>\n",
       "      <td>2019-4-18 16:05</td>\n",
       "      <td>GMT+08:00北京,香港,帕斯,新加坡,台北</td>\n",
       "      <td>从正面看，是伟大的神God从反面看，是卑鄙小人dog。其实，人们所犯的罪恶evil，反过来，...</td>\n",
       "      <td>17244</td>\n",
       "      <td>415</td>\n",
       "      <td>乐趣网客服</td>\n",
       "      <td>39365</td>\n",
       "      <td>11343123</td>\n",
       "      <td>0</td>\n",
       "    </tr>\n",
       "    <tr>\n",
       "      <th>1</th>\n",
       "      <td>2</td>\n",
       "      <td>757区焦语</td>\n",
       "      <td>2015-9-14 11:29</td>\n",
       "      <td>462</td>\n",
       "      <td>2019-4-18 19:59</td>\n",
       "      <td>2019-4-18 19:30</td>\n",
       "      <td>使用系统默认</td>\n",
       "      <td></td>\n",
       "      <td>672</td>\n",
       "      <td>164</td>\n",
       "      <td>Lv6 大将军</td>\n",
       "      <td>764</td>\n",
       "      <td>32329958</td>\n",
       "      <td>0</td>\n",
       "    </tr>\n",
       "    <tr>\n",
       "      <th>2</th>\n",
       "      <td>3</td>\n",
       "      <td>一笑</td>\n",
       "      <td>2012-12-8 17:46</td>\n",
       "      <td>156</td>\n",
       "      <td>2019-4-19 00:42</td>\n",
       "      <td>2019-4-19 00:42</td>\n",
       "      <td>使用系统默认</td>\n",
       "      <td></td>\n",
       "      <td>281</td>\n",
       "      <td>67</td>\n",
       "      <td>Lv4 护军</td>\n",
       "      <td>2993</td>\n",
       "      <td>23389456</td>\n",
       "      <td>0</td>\n",
       "    </tr>\n",
       "    <tr>\n",
       "      <th>3</th>\n",
       "      <td>4</td>\n",
       "      <td>偶滴神啊</td>\n",
       "      <td>2012-6-5 15:58</td>\n",
       "      <td>1108</td>\n",
       "      <td>2019-4-18 22:07</td>\n",
       "      <td>2019-4-18 22:07</td>\n",
       "      <td>使用系统默认</td>\n",
       "      <td></td>\n",
       "      <td>2161</td>\n",
       "      <td>171</td>\n",
       "      <td>Lv8 丞相</td>\n",
       "      <td>1453</td>\n",
       "      <td>16875104</td>\n",
       "      <td>0</td>\n",
       "    </tr>\n",
       "    <tr>\n",
       "      <th>4</th>\n",
       "      <td>5</td>\n",
       "      <td>375831204</td>\n",
       "      <td>2013-5-21 20:29</td>\n",
       "      <td>1030</td>\n",
       "      <td>2019-4-18 20:45</td>\n",
       "      <td>2019-4-18 20:45</td>\n",
       "      <td>使用系统默认</td>\n",
       "      <td></td>\n",
       "      <td>966</td>\n",
       "      <td>282</td>\n",
       "      <td>Lv7 大司马</td>\n",
       "      <td>15291</td>\n",
       "      <td>21499759</td>\n",
       "      <td>0</td>\n",
       "    </tr>\n",
       "  </tbody>\n",
       "</table>\n",
       "</div>"
      ],
      "text/plain": [
       "   id       name      create_time  active_time       last_login  \\\n",
       "0   1      乐趣—小帅   1970-1-1 08:00         5070  2019-4-18 16:05   \n",
       "1   2     757区焦语  2015-9-14 11:29          462  2019-4-18 19:59   \n",
       "2   3         一笑  2012-12-8 17:46          156  2019-4-19 00:42   \n",
       "3   4       偶滴神啊   2012-6-5 15:58         1108  2019-4-18 22:07   \n",
       "4   5  375831204  2013-5-21 20:29         1030  2019-4-18 20:45   \n",
       "\n",
       "     last_activity                      area  \\\n",
       "0  2019-4-18 16:05  GMT+08:00北京,香港,帕斯,新加坡,台北   \n",
       "1  2019-4-18 19:30                    使用系统默认   \n",
       "2  2019-4-19 00:42                    使用系统默认   \n",
       "3  2019-4-18 22:07                    使用系统默认   \n",
       "4  2019-4-18 20:45                    使用系统默认   \n",
       "\n",
       "                                           signature  reply_times  theme_nums  \\\n",
       "0  从正面看，是伟大的神God从反面看，是卑鄙小人dog。其实，人们所犯的罪恶evil，反过来，...        17244         415   \n",
       "1                                                             672         164   \n",
       "2                                                             281          67   \n",
       "3                                                            2161         171   \n",
       "4                                                             966         282   \n",
       "\n",
       "  identity  forum_money       uid  friend_nums  \n",
       "0    乐趣网客服        39365  11343123            0  \n",
       "1  Lv6 大将军          764  32329958            0  \n",
       "2   Lv4 护军         2993  23389456            0  \n",
       "3   Lv8 丞相         1453  16875104            0  \n",
       "4  Lv7 大司马        15291  21499759            0  "
      ]
     },
     "execution_count": 63,
     "metadata": {},
     "output_type": "execute_result"
    }
   ],
   "source": [
    "data.head()"
   ]
  },
  {
   "cell_type": "code",
   "execution_count": 129,
   "metadata": {},
   "outputs": [
    {
     "name": "stderr",
     "output_type": "stream",
     "text": [
      "E:\\Anaconda3\\lib\\site-packages\\ipykernel_launcher.py:6: SettingWithCopyWarning: \n",
      "A value is trying to be set on a copy of a slice from a DataFrame.\n",
      "Try using .loc[row_indexer,col_indexer] = value instead\n",
      "\n",
      "See the caveats in the documentation: http://pandas.pydata.org/pandas-docs/stable/indexing.html#indexing-view-versus-copy\n",
      "  \n",
      "E:\\Anaconda3\\lib\\site-packages\\ipykernel_launcher.py:7: SettingWithCopyWarning: \n",
      "A value is trying to be set on a copy of a slice from a DataFrame.\n",
      "Try using .loc[row_indexer,col_indexer] = value instead\n",
      "\n",
      "See the caveats in the documentation: http://pandas.pydata.org/pandas-docs/stable/indexing.html#indexing-view-versus-copy\n",
      "  import sys\n"
     ]
    },
    {
     "data": {
      "image/png": "[encoded data removed]",
      "text/plain": [
       "<Figure size 1440x720 with 2 Axes>"
      ]
     },
     "metadata": {
      "needs_background": "light"
     },
     "output_type": "display_data"
    }
   ],
   "source": [
    "# 绘制创建时间分布图\n",
    "def create_time(data):\n",
    "    data['create_time'] = data['create_time'].map(lambda x:x.split()[0])\n",
    "    data['last_login'] = data['last_login'].map(lambda x:x.split()[0])\n",
    "    data = data[data['create_time']!='1970-1-1']\n",
    "    data['create_time'] = pd.to_datetime(data['create_time'])\n",
    "    data['last_login'] = pd.to_datetime(data['last_login'])\n",
    "    tempdata_create = data.set_index('create_time')\n",
    "    tempdata_create = tempdata_create.resample('M').count()\n",
    "    tempdata_login = data.set_index('last_login')\n",
    "    tempdata_login = tempdata_login.resample('M').count()\n",
    "    #print(tempdata_create)\n",
    "    x_create = tempdata_create.index\n",
    "    y_create = tempdata_create.loc[:,'id']\n",
    "    x_login = tempdata_login.index\n",
    "    y_login = tempdata_login.loc[:,'id']\n",
    "    #print(x)\n",
    "    #print(y_create)\n",
    "    #print(y_login)\n",
    "    plt.figure(figsize=(20,10))\n",
    "    plt.subplot(1,2,1)\n",
    "    plt.plot(x_create, y_create, color='blue', linewidth=1.0, linestyle='-', label='创建账号')\n",
    "    plt.legend()\n",
    "    plt.title('乐趣论坛账号注册数分布图')\n",
    "    plt.subplot(1,2,2)\n",
    "    plt.plot(x_login, y_login, color='red', linewidth=1.0, linestyle='-', label='最后登录')\n",
    "    # 显示图示\n",
    "    plt.legend()\n",
    "    #plt.gca().xaxis.set_major_formatter(mdates.DateFormatter('%Y-%M-%d'))\n",
    "    #plt.gca().xaxis.set_major_locator(mdates.MonthLocator())\n",
    "    plt.title('乐趣论坛账号最后登录数分布图')\n",
    "    plt.savefig('lequ_create_time.png')\n",
    "    plt.show()\n",
    "create_time(data)"
   ]
  },
  {
   "cell_type": "code",
   "execution_count": 69,
   "metadata": {},
   "outputs": [
    {
     "data": {
      "text/html": [
       "<div>\n",
       "<style scoped>\n",
       "    .dataframe tbody tr th:only-of-type {\n",
       "        vertical-align: middle;\n",
       "    }\n",
       "\n",
       "    .dataframe tbody tr th {\n",
       "        vertical-align: top;\n",
       "    }\n",
       "\n",
       "    .dataframe thead th {\n",
       "        text-align: right;\n",
       "    }\n",
       "</style>\n",
       "<table border=\"1\" class=\"dataframe\">\n",
       "  <thead>\n",
       "    <tr style=\"text-align: right;\">\n",
       "      <th></th>\n",
       "      <th>id</th>\n",
       "      <th>active_time</th>\n",
       "      <th>reply_times</th>\n",
       "      <th>theme_nums</th>\n",
       "      <th>forum_money</th>\n",
       "      <th>uid</th>\n",
       "      <th>friend_nums</th>\n",
       "    </tr>\n",
       "  </thead>\n",
       "  <tbody>\n",
       "    <tr>\n",
       "      <th>count</th>\n",
       "      <td>5027.000000</td>\n",
       "      <td>5027.000000</td>\n",
       "      <td>5027.000000</td>\n",
       "      <td>5027.000000</td>\n",
       "      <td>5027.000000</td>\n",
       "      <td>5.027000e+03</td>\n",
       "      <td>5027.0</td>\n",
       "    </tr>\n",
       "    <tr>\n",
       "      <th>mean</th>\n",
       "      <td>2514.000000</td>\n",
       "      <td>315.721106</td>\n",
       "      <td>154.436045</td>\n",
       "      <td>27.754724</td>\n",
       "      <td>344.722896</td>\n",
       "      <td>2.572826e+07</td>\n",
       "      <td>0.0</td>\n",
       "    </tr>\n",
       "    <tr>\n",
       "      <th>std</th>\n",
       "      <td>1451.314232</td>\n",
       "      <td>532.741676</td>\n",
       "      <td>573.868056</td>\n",
       "      <td>152.996994</td>\n",
       "      <td>1136.861706</td>\n",
       "      <td>8.672868e+06</td>\n",
       "      <td>0.0</td>\n",
       "    </tr>\n",
       "    <tr>\n",
       "      <th>min</th>\n",
       "      <td>1.000000</td>\n",
       "      <td>1.000000</td>\n",
       "      <td>-31.000000</td>\n",
       "      <td>0.000000</td>\n",
       "      <td>-440.000000</td>\n",
       "      <td>1.016000e+04</td>\n",
       "      <td>0.0</td>\n",
       "    </tr>\n",
       "    <tr>\n",
       "      <th>25%</th>\n",
       "      <td>1257.500000</td>\n",
       "      <td>36.000000</td>\n",
       "      <td>7.000000</td>\n",
       "      <td>2.000000</td>\n",
       "      <td>0.000000</td>\n",
       "      <td>1.741458e+07</td>\n",
       "      <td>0.0</td>\n",
       "    </tr>\n",
       "    <tr>\n",
       "      <th>50%</th>\n",
       "      <td>2514.000000</td>\n",
       "      <td>132.000000</td>\n",
       "      <td>29.000000</td>\n",
       "      <td>7.000000</td>\n",
       "      <td>30.000000</td>\n",
       "      <td>2.765435e+07</td>\n",
       "      <td>0.0</td>\n",
       "    </tr>\n",
       "    <tr>\n",
       "      <th>75%</th>\n",
       "      <td>3770.500000</td>\n",
       "      <td>364.000000</td>\n",
       "      <td>117.000000</td>\n",
       "      <td>23.000000</td>\n",
       "      <td>213.000000</td>\n",
       "      <td>3.340776e+07</td>\n",
       "      <td>0.0</td>\n",
       "    </tr>\n",
       "    <tr>\n",
       "      <th>max</th>\n",
       "      <td>5027.000000</td>\n",
       "      <td>12122.000000</td>\n",
       "      <td>23977.000000</td>\n",
       "      <td>9931.000000</td>\n",
       "      <td>39365.000000</td>\n",
       "      <td>3.640603e+07</td>\n",
       "      <td>0.0</td>\n",
       "    </tr>\n",
       "  </tbody>\n",
       "</table>\n",
       "</div>"
      ],
      "text/plain": [
       "                id   active_time   reply_times   theme_nums   forum_money  \\\n",
       "count  5027.000000   5027.000000   5027.000000  5027.000000   5027.000000   \n",
       "mean   2514.000000    315.721106    154.436045    27.754724    344.722896   \n",
       "std    1451.314232    532.741676    573.868056   152.996994   1136.861706   \n",
       "min       1.000000      1.000000    -31.000000     0.000000   -440.000000   \n",
       "25%    1257.500000     36.000000      7.000000     2.000000      0.000000   \n",
       "50%    2514.000000    132.000000     29.000000     7.000000     30.000000   \n",
       "75%    3770.500000    364.000000    117.000000    23.000000    213.000000   \n",
       "max    5027.000000  12122.000000  23977.000000  9931.000000  39365.000000   \n",
       "\n",
       "                uid  friend_nums  \n",
       "count  5.027000e+03       5027.0  \n",
       "mean   2.572826e+07          0.0  \n",
       "std    8.672868e+06          0.0  \n",
       "min    1.016000e+04          0.0  \n",
       "25%    1.741458e+07          0.0  \n",
       "50%    2.765435e+07          0.0  \n",
       "75%    3.340776e+07          0.0  \n",
       "max    3.640603e+07          0.0  "
      ]
     },
     "execution_count": 69,
     "metadata": {},
     "output_type": "execute_result"
    }
   ],
   "source": [
    "data.describe()"
   ]
  },
  {
   "cell_type": "code",
   "execution_count": 111,
   "metadata": {},
   "outputs": [],
   "source": [
    "import numpy as np\n",
    "data['reply_times'] = data['reply_times'].map(lambda x:np.abs(x))\n",
    "data['forum_money'] = data['forum_money'].map(lambda x:np.abs(x))"
   ]
  },
  {
   "cell_type": "code",
   "execution_count": 112,
   "metadata": {},
   "outputs": [
    {
     "data": {
      "text/html": [
       "<div>\n",
       "<style scoped>\n",
       "    .dataframe tbody tr th:only-of-type {\n",
       "        vertical-align: middle;\n",
       "    }\n",
       "\n",
       "    .dataframe tbody tr th {\n",
       "        vertical-align: top;\n",
       "    }\n",
       "\n",
       "    .dataframe thead th {\n",
       "        text-align: right;\n",
       "    }\n",
       "</style>\n",
       "<table border=\"1\" class=\"dataframe\">\n",
       "  <thead>\n",
       "    <tr style=\"text-align: right;\">\n",
       "      <th></th>\n",
       "      <th>id</th>\n",
       "      <th>active_time</th>\n",
       "      <th>reply_times</th>\n",
       "      <th>theme_nums</th>\n",
       "      <th>forum_money</th>\n",
       "      <th>uid</th>\n",
       "      <th>friend_nums</th>\n",
       "      <th>reply_time</th>\n",
       "    </tr>\n",
       "  </thead>\n",
       "  <tbody>\n",
       "    <tr>\n",
       "      <th>count</th>\n",
       "      <td>5027.000000</td>\n",
       "      <td>5027.000000</td>\n",
       "      <td>5027.000000</td>\n",
       "      <td>5027.000000</td>\n",
       "      <td>5027.000000</td>\n",
       "      <td>5.027000e+03</td>\n",
       "      <td>5027.0</td>\n",
       "      <td>5027.000000</td>\n",
       "    </tr>\n",
       "    <tr>\n",
       "      <th>mean</th>\n",
       "      <td>2514.000000</td>\n",
       "      <td>315.721106</td>\n",
       "      <td>154.454744</td>\n",
       "      <td>27.754724</td>\n",
       "      <td>345.450965</td>\n",
       "      <td>2.572826e+07</td>\n",
       "      <td>0.0</td>\n",
       "      <td>154.454744</td>\n",
       "    </tr>\n",
       "    <tr>\n",
       "      <th>std</th>\n",
       "      <td>1451.314232</td>\n",
       "      <td>532.741676</td>\n",
       "      <td>573.863022</td>\n",
       "      <td>152.996994</td>\n",
       "      <td>1136.640640</td>\n",
       "      <td>8.672868e+06</td>\n",
       "      <td>0.0</td>\n",
       "      <td>573.863022</td>\n",
       "    </tr>\n",
       "    <tr>\n",
       "      <th>min</th>\n",
       "      <td>1.000000</td>\n",
       "      <td>1.000000</td>\n",
       "      <td>0.000000</td>\n",
       "      <td>0.000000</td>\n",
       "      <td>0.000000</td>\n",
       "      <td>1.016000e+04</td>\n",
       "      <td>0.0</td>\n",
       "      <td>0.000000</td>\n",
       "    </tr>\n",
       "    <tr>\n",
       "      <th>25%</th>\n",
       "      <td>1257.500000</td>\n",
       "      <td>36.000000</td>\n",
       "      <td>7.000000</td>\n",
       "      <td>2.000000</td>\n",
       "      <td>0.000000</td>\n",
       "      <td>1.741458e+07</td>\n",
       "      <td>0.0</td>\n",
       "      <td>7.000000</td>\n",
       "    </tr>\n",
       "    <tr>\n",
       "      <th>50%</th>\n",
       "      <td>2514.000000</td>\n",
       "      <td>132.000000</td>\n",
       "      <td>29.000000</td>\n",
       "      <td>7.000000</td>\n",
       "      <td>30.000000</td>\n",
       "      <td>2.765435e+07</td>\n",
       "      <td>0.0</td>\n",
       "      <td>29.000000</td>\n",
       "    </tr>\n",
       "    <tr>\n",
       "      <th>75%</th>\n",
       "      <td>3770.500000</td>\n",
       "      <td>364.000000</td>\n",
       "      <td>117.000000</td>\n",
       "      <td>23.000000</td>\n",
       "      <td>216.000000</td>\n",
       "      <td>3.340776e+07</td>\n",
       "      <td>0.0</td>\n",
       "      <td>117.000000</td>\n",
       "    </tr>\n",
       "    <tr>\n",
       "      <th>max</th>\n",
       "      <td>5027.000000</td>\n",
       "      <td>12122.000000</td>\n",
       "      <td>23977.000000</td>\n",
       "      <td>9931.000000</td>\n",
       "      <td>39365.000000</td>\n",
       "      <td>3.640603e+07</td>\n",
       "      <td>0.0</td>\n",
       "      <td>23977.000000</td>\n",
       "    </tr>\n",
       "  </tbody>\n",
       "</table>\n",
       "</div>"
      ],
      "text/plain": [
       "                id   active_time   reply_times   theme_nums   forum_money  \\\n",
       "count  5027.000000   5027.000000   5027.000000  5027.000000   5027.000000   \n",
       "mean   2514.000000    315.721106    154.454744    27.754724    345.450965   \n",
       "std    1451.314232    532.741676    573.863022   152.996994   1136.640640   \n",
       "min       1.000000      1.000000      0.000000     0.000000      0.000000   \n",
       "25%    1257.500000     36.000000      7.000000     2.000000      0.000000   \n",
       "50%    2514.000000    132.000000     29.000000     7.000000     30.000000   \n",
       "75%    3770.500000    364.000000    117.000000    23.000000    216.000000   \n",
       "max    5027.000000  12122.000000  23977.000000  9931.000000  39365.000000   \n",
       "\n",
       "                uid  friend_nums    reply_time  \n",
       "count  5.027000e+03       5027.0   5027.000000  \n",
       "mean   2.572826e+07          0.0    154.454744  \n",
       "std    8.672868e+06          0.0    573.863022  \n",
       "min    1.016000e+04          0.0      0.000000  \n",
       "25%    1.741458e+07          0.0      7.000000  \n",
       "50%    2.765435e+07          0.0     29.000000  \n",
       "75%    3.340776e+07          0.0    117.000000  \n",
       "max    3.640603e+07          0.0  23977.000000  "
      ]
     },
     "execution_count": 112,
     "metadata": {},
     "output_type": "execute_result"
    }
   ],
   "source": [
    "data.describe()"
   ]
  },
  {
   "cell_type": "code",
   "execution_count": 144,
   "metadata": {},
   "outputs": [
    {
     "data": {
      "image/png": "[encoded data removed]",
      "text/plain": [
       "<Figure size 936x504 with 1 Axes>"
      ]
     },
     "metadata": {
      "needs_background": "light"
     },
     "output_type": "display_data"
    }
   ],
   "source": [
    "# 乐趣论坛账号在线时长条形图\n",
    "def active_time(data):\n",
    "    active1 = data[data['active_time']<=100].count().id\n",
    "    active2 = data[(data['active_time']>100)&(data['active_time']<=500)].count().id\n",
    "    active3 = data[(data['active_time']>500)&(data['active_time']<=1000)].count().id\n",
    "    active4 = data[(data['active_time']>1000)&(data['active_time']<=1500)].count().id\n",
    "    active5 = data[(data['active_time']>1500)&(data['active_time']<=2000)].count().id\n",
    "    active6 = data[(data['active_time']>2000)&(data['active_time']<=2500)].count().id\n",
    "    active7 = data[(data['active_time']>2500)&(data['active_time']<=3000)].count().id\n",
    "    active8 = data[(data['active_time']>3000)&(data['active_time']<=3500)].count().id\n",
    "    active9 = data[(data['active_time']>3500)&(data['active_time']<=4000)].count().id\n",
    "    active10 = data[(data['active_time']>4000)&(data['active_time']<=4500)].count().id\n",
    "    active11 = data[(data['active_time']>4500)&(data['active_time']<=5000)].count().id\n",
    "    active12 = data[data['active_time']>5000].count().id\n",
    "    x = ['0-100', '100-500', '500-1000', '1000-1500', '1500-2000', '2000-2500', '2500-3000', '3000-3500', '3500-4000', '4000-4500', '4500-5000', '5000-10000']\n",
    "    y = [active1, active2, active3, active4, active5, active6, active7, active8, active9, active10, active11, active12]\n",
    "    fig = plt.figure(figsize=(13,7))\n",
    "    ax = fig.add_subplot(1, 1, 1)\n",
    "    ax.bar(x, y)\n",
    "    ax.set_xlabel('在线时长')\n",
    "    ax.set_ylabel('人数')\n",
    "    plt.title('乐趣论坛账号在线时长条形图')\n",
    "    plt.savefig('lequ_active_time.png')\n",
    "    plt.show()\n",
    "active_time(data)"
   ]
  },
  {
   "cell_type": "code",
   "execution_count": 153,
   "metadata": {},
   "outputs": [
    {
     "data": {
      "image/png": "[encoded data removed]",
      "text/plain": [
       "<Figure size 936x504 with 1 Axes>"
      ]
     },
     "metadata": {
      "needs_background": "light"
     },
     "output_type": "display_data"
    }
   ],
   "source": [
    "# 乐趣论坛用户回复数与论坛币折线图\n",
    "def money_reply(data):\n",
    "    import numpy as np\n",
    "    import seaborn as sns\n",
    "    data['reply_times'] = data['reply_times'].map(lambda x:np.abs(x))\n",
    "    data['forum_money'] = data['forum_money'].map(lambda x:np.abs(x))\n",
    "    x = data['reply_times']\n",
    "    y = data['forum_money']\n",
    "    plt.figure(figsize=(13,7))\n",
    "    ax = sns.scatterplot(x, y)\n",
    "    ax.set_xlabel('用户回复数')\n",
    "    ax.set_ylabel('用户论坛币')\n",
    "    plt.savefig('money_reply.png')\n",
    "    plt.show()\n",
    "money_reply(data)"
   ]
  },
  {
   "cell_type": "code",
   "execution_count": 154,
   "metadata": {},
   "outputs": [],
   "source": []
  },
  {
   "cell_type": "code",
   "execution_count": 155,
   "metadata": {},
   "outputs": [],
   "source": []
  },
  {
   "cell_type": "code",
   "execution_count": 159,
   "metadata": {},
   "outputs": [],
   "source": []
  },
  {
   "cell_type": "code",
   "execution_count": 160,
   "metadata": {},
   "outputs": [
    {
     "data": {
      "text/html": [
       "<div>\n",
       "<style scoped>\n",
       "    .dataframe tbody tr th:only-of-type {\n",
       "        vertical-align: middle;\n",
       "    }\n",
       "\n",
       "    .dataframe tbody tr th {\n",
       "        vertical-align: top;\n",
       "    }\n",
       "\n",
       "    .dataframe thead th {\n",
       "        text-align: right;\n",
       "    }\n",
       "</style>\n",
       "<table border=\"1\" class=\"dataframe\">\n",
       "  <thead>\n",
       "    <tr style=\"text-align: right;\">\n",
       "      <th></th>\n",
       "      <th>id</th>\n",
       "      <th>name</th>\n",
       "      <th>content</th>\n",
       "      <th>public_time</th>\n",
       "      <th>read_count</th>\n",
       "      <th>reply_count</th>\n",
       "    </tr>\n",
       "  </thead>\n",
       "  <tbody>\n",
       "    <tr>\n",
       "      <th>0</th>\n",
       "      <td>20</td>\n",
       "      <td>乐趣—小帅</td>\n",
       "      <td>论坛币系统，官方出这个系统的初衷一方面是为了调节论坛的活跃度，另一方面也是希望玩家在论坛积极...</td>\n",
       "      <td>2018-8-17 10:17</td>\n",
       "      <td>117381</td>\n",
       "      <td>24879</td>\n",
       "    </tr>\n",
       "    <tr>\n",
       "      <th>1</th>\n",
       "      <td>44949</td>\n",
       "      <td>gunn***</td>\n",
       "      <td></td>\n",
       "      <td>2012-5-27 22:36</td>\n",
       "      <td>133365</td>\n",
       "      <td>5886</td>\n",
       "    </tr>\n",
       "    <tr>\n",
       "      <th>2</th>\n",
       "      <td>2172</td>\n",
       "      <td>yb65***</td>\n",
       "      <td></td>\n",
       "      <td>2013-5-1 05:45</td>\n",
       "      <td>166492</td>\n",
       "      <td>5131</td>\n",
       "    </tr>\n",
       "    <tr>\n",
       "      <th>3</th>\n",
       "      <td>21275</td>\n",
       "      <td>乐趣—小帅</td>\n",
       "      <td></td>\n",
       "      <td>2017-9-25 13:50</td>\n",
       "      <td>36418</td>\n",
       "      <td>1343</td>\n",
       "    </tr>\n",
       "    <tr>\n",
       "      <th>4</th>\n",
       "      <td>11898</td>\n",
       "      <td>乐趣—小帅</td>\n",
       "      <td></td>\n",
       "      <td>2017-9-7 13:37</td>\n",
       "      <td>34333</td>\n",
       "      <td>1096</td>\n",
       "    </tr>\n",
       "    <tr>\n",
       "      <th>5</th>\n",
       "      <td>22186</td>\n",
       "      <td>乐趣—小帅</td>\n",
       "      <td>1）官方提供给玩家大额免费金币（充值渠道是关闭的。）亲爱的玩家可以在测试服体验新武将、新版本...</td>\n",
       "      <td>2017-7-7 14:27</td>\n",
       "      <td>29350</td>\n",
       "      <td>936</td>\n",
       "    </tr>\n",
       "    <tr>\n",
       "      <th>6</th>\n",
       "      <td>3621</td>\n",
       "      <td>乐趣—小帅</td>\n",
       "      <td>双12武将搭配晒晒活动~晒一晒过图&amp;PK常用武将搭配，晒一晒对武将理解心得。1）踩到楼层含数...</td>\n",
       "      <td>2018-12-11 16:20</td>\n",
       "      <td>8118</td>\n",
       "      <td>537</td>\n",
       "    </tr>\n",
       "    <tr>\n",
       "      <th>7</th>\n",
       "      <td>12803</td>\n",
       "      <td>乐趣网-貂芷</td>\n",
       "      <td></td>\n",
       "      <td>2014-1-22 11:01</td>\n",
       "      <td>73171</td>\n",
       "      <td>468</td>\n",
       "    </tr>\n",
       "    <tr>\n",
       "      <th>8</th>\n",
       "      <td>49057</td>\n",
       "      <td>3937***</td>\n",
       "      <td></td>\n",
       "      <td>2013-6-2 22:26</td>\n",
       "      <td>37560</td>\n",
       "      <td>467</td>\n",
       "    </tr>\n",
       "    <tr>\n",
       "      <th>9</th>\n",
       "      <td>39115</td>\n",
       "      <td>沧海云天</td>\n",
       "      <td>坊间客服吹风关羽，张辽和孙策将如何如何改动，如果真如此，我只想对吴国的玩家们说：此游戏设计不...</td>\n",
       "      <td>2018-10-20 16:31</td>\n",
       "      <td>9445</td>\n",
       "      <td>463</td>\n",
       "    </tr>\n",
       "  </tbody>\n",
       "</table>\n",
       "</div>"
      ],
      "text/plain": [
       "      id     name                                            content  \\\n",
       "0     20    乐趣—小帅  论坛币系统，官方出这个系统的初衷一方面是为了调节论坛的活跃度，另一方面也是希望玩家在论坛积极...   \n",
       "1  44949  gunn***                                                      \n",
       "2   2172  yb65***                                                      \n",
       "3  21275    乐趣—小帅                                                      \n",
       "4  11898    乐趣—小帅                                                      \n",
       "5  22186    乐趣—小帅  1）官方提供给玩家大额免费金币（充值渠道是关闭的。）亲爱的玩家可以在测试服体验新武将、新版本...   \n",
       "6   3621    乐趣—小帅  双12武将搭配晒晒活动~晒一晒过图&PK常用武将搭配，晒一晒对武将理解心得。1）踩到楼层含数...   \n",
       "7  12803   乐趣网-貂芷                                                      \n",
       "8  49057  3937***                                                      \n",
       "9  39115     沧海云天  坊间客服吹风关羽，张辽和孙策将如何如何改动，如果真如此，我只想对吴国的玩家们说：此游戏设计不...   \n",
       "\n",
       "        public_time  read_count  reply_count  \n",
       "0   2018-8-17 10:17      117381        24879  \n",
       "1   2012-5-27 22:36      133365         5886  \n",
       "2    2013-5-1 05:45      166492         5131  \n",
       "3   2017-9-25 13:50       36418         1343  \n",
       "4    2017-9-7 13:37       34333         1096  \n",
       "5    2017-7-7 14:27       29350          936  \n",
       "6  2018-12-11 16:20        8118          537  \n",
       "7   2014-1-22 11:01       73171          468  \n",
       "8    2013-6-2 22:26       37560          467  \n",
       "9  2018-10-20 16:31        9445          463  "
      ]
     },
     "execution_count": 160,
     "metadata": {},
     "output_type": "execute_result"
    }
   ],
   "source": []
  },
  {
   "cell_type": "code",
   "execution_count": 162,
   "metadata": {},
   "outputs": [
    {
     "name": "stdout",
     "output_type": "stream",
     "text": [
      "{'name': '乐趣—小帅', 'content': '论坛币系统，官方出这个系统的初衷一方面是为了调节论坛的活跃度，另一方面也是希望玩家在论坛积极交流的同时可以得到一些额外的奖励，但是出来了之后有违初衷，很多大家为了论坛币水贴，甚至还造成了一些负担。所以考虑再三把之前的每日3帖，回复10条改成了每日1帖，回复5条。现在官方再次调整在奖励不变的情况下改动为', 'public_time': '2018-8-17 10:17', 'read_count': 117381, 'reply_count': 24879}\n",
      "{'name': 'gunn***', 'content': '', 'public_time': '2012-5-27 22:36', 'read_count': 133365, 'reply_count': 5886}\n",
      "{'name': 'yb65***', 'content': '', 'public_time': '2013-5-1 05:45', 'read_count': 166492, 'reply_count': 5131}\n",
      "{'name': '乐趣—小帅', 'content': '', 'public_time': '2017-9-25 13:50', 'read_count': 36418, 'reply_count': 1343}\n",
      "{'name': '乐趣—小帅', 'content': '', 'public_time': '2017-9-7 13:37', 'read_count': 34333, 'reply_count': 1096}\n",
      "{'name': '乐趣—小帅', 'content': '1）官方提供给玩家大额免费金币（充值渠道是关闭的。）亲爱的玩家可以在测试服体验新武将、新版本、新地图、新活动；测试武将平衡性，探索玩法和武将组合等。2）温馨提示：体验服由于服务器经常维护更新以及不稳定性会定期进行关闭维护哦。3）玩家选择组成：每个国家选取20人，分别由小，中，大R组成。1）区服：XXX2）角色：XXX3）联系QQ：XXX（官方会给与保密，帖子是仅作者可见）被录取的玩家小编会及时的通过QQ跟亲们联系哦，后续亲们在测试过程中收集到的建议，BUG可以直接发给小编的QQ，由小编这里整理反馈给大大们，另外还有奖励哦~亲爱的玩家在测试服、提建议找到BUG，官方都会给予亲们正式服的账号100-上不封顶金币管够的奖励，特别优秀的建议还有意想不到的奖励哦。', 'public_time': '2017-7-7 14:27', 'read_count': 29350, 'reply_count': 936}\n",
      "{'name': '乐趣—小帅', 'content': '双12武将搭配晒晒活动~晒一晒过图&PK常用武将搭配，晒一晒对武将理解心得。1）踩到楼层含数字6,8的楼层必得288金币奖励，踩楼卡一共68张发完即止。2）需配图两张：PK武将搭配&过图常用武将搭配，写文字评析，写得好的还可得意外奖励哦。201８年12月12日16：30—201８年12月19日凌晨4：00需在活动帖子下面跟帖。主贴下帖两张图：。过图常用搭配：XX。PK常用搭配：XX。1、必须是个人原创，严禁抄袭、转载，要求语言通顺，连贯，主次分明。2、文章内禁止辱骂、侮辱、煽动性质的言论；如若发现，取消活动资格。3、获得奖励的小伙伴可获得288金币的奖励。4、本次活动的最终解释权归乐趣网所有。5、活动奖励最迟在活动结束后三个工作日内通过论坛短消息的形式发放。', 'public_time': '2018-12-11 16:20', 'read_count': 8118, 'reply_count': 537}\n",
      "{'name': '乐趣网-貂芷', 'content': '', 'public_time': '2014-1-22 11:01', 'read_count': 73171, 'reply_count': 468}\n",
      "{'name': '3937***', 'content': '', 'public_time': '2013-6-2 22:26', 'read_count': 37560, 'reply_count': 467}\n",
      "{'name': '沧海云天', 'content': '坊间客服吹风关羽，张辽和孙策将如何如何改动，如果真如此，我只想对吴国的玩家们说：此游戏设计不公，不玩也罢。吴国历来羸弱，等同技能或修为，均比他国玩家要付出更多；本土将技能重复设置，既不能控制也无暴力输出；原本期待能通过不断更新的新红将和技能推出，可缩小与他国之公平性差距，但目前来看实在事与愿违。更为过分的是客服号居然表示，更改张辽荆棘不可驱散是改变竞技场等格局！我就要问问你们策划了：目前竞技场什么样的格局需要改变？若要变，为什么独独要更改魏国张辽，行利一国而损他人的愚蠢短视之举呢？这就是游戏的最大不公！对于吴国玩家提出合理的建议，诸如增加吴国输出加强，如增加英勇等要求，却从未给与正面考虑或说明，难怪有人说此游戏侮辱了吴国玩家！莫非，策划难道就是要让最终结局如历史一样由魏国一统天下？或策划本身就是魏国控，三国伪粉？当真结果如此，不妨我等吴国玩家就早日成全了你们，让尔等黑暗的算计可以光明正大将卧龙吟改称魏龙吟罢了，就留你们自淫自嗨便是！不公不除，吴国无立锥之地，即便玩家战力再高，当不会甘于屠辱！待卧龙吟变２国之时，游戏也就到头了，从此无吴，无蜀，关服终了！难道这就是策划方更阴暗的目的所在，驱人散往卧龙吟２？？？５５区沧海云天', 'public_time': '2018-10-20 16:31', 'read_count': 9445, 'reply_count': 463}\n"
     ]
    }
   ],
   "source": []
  },
  {
   "cell_type": "code",
   "execution_count": 166,
   "metadata": {},
   "outputs": [
    {
     "data": {
      "text/plain": [
       "array(['乐趣网客服', 'Lv6 大将军', 'Lv4 护军', 'Lv8 丞相', 'Lv7 大司马', 'Lv5 骠骑将军',\n",
       "       'Lv3 偏将', 'Lv2 兵士', '超级版主', 'Lv9 诸侯', 'SNSFun - BAN1', '勋章颁发'],\n",
       "      dtype=object)"
      ]
     },
     "execution_count": 166,
     "metadata": {},
     "output_type": "execute_result"
    }
   ],
   "source": [
    "data['identity'].unique()"
   ]
  },
  {
   "cell_type": "code",
   "execution_count": 168,
   "metadata": {},
   "outputs": [
    {
     "ename": "KeyError",
     "evalue": "'Level 乐趣网客服 must be same as name (None)'",
     "output_type": "error",
     "traceback": [
      "\u001b[1;31m---------------------------------------------------------------------------\u001b[0m",
      "\u001b[1;31mKeyError\u001b[0m                                  Traceback (most recent call last)",
      "\u001b[1;32m<ipython-input-168-4ff9a0279d88>\u001b[0m in \u001b[0;36m<module>\u001b[1;34m()\u001b[0m\n\u001b[1;32m----> 1\u001b[1;33m \u001b[1;33m[\u001b[0m\u001b[0mdata\u001b[0m\u001b[1;33m[\u001b[0m\u001b[1;34m'identity'\u001b[0m\u001b[1;33m]\u001b[0m\u001b[1;33m.\u001b[0m\u001b[0mcount\u001b[0m\u001b[1;33m(\u001b[0m\u001b[0mx\u001b[0m\u001b[1;33m)\u001b[0m \u001b[1;32mfor\u001b[0m \u001b[0mx\u001b[0m \u001b[1;32min\u001b[0m \u001b[0mdata\u001b[0m\u001b[1;33m[\u001b[0m\u001b[1;34m'identity'\u001b[0m\u001b[1;33m]\u001b[0m\u001b[1;33m.\u001b[0m\u001b[0munique\u001b[0m\u001b[1;33m(\u001b[0m\u001b[1;33m)\u001b[0m\u001b[1;33m]\u001b[0m\u001b[1;33m\u001b[0m\u001b[0m\n\u001b[0m",
      "\u001b[1;32m<ipython-input-168-4ff9a0279d88>\u001b[0m in \u001b[0;36m<listcomp>\u001b[1;34m(.0)\u001b[0m\n\u001b[1;32m----> 1\u001b[1;33m \u001b[1;33m[\u001b[0m\u001b[0mdata\u001b[0m\u001b[1;33m[\u001b[0m\u001b[1;34m'identity'\u001b[0m\u001b[1;33m]\u001b[0m\u001b[1;33m.\u001b[0m\u001b[0mcount\u001b[0m\u001b[1;33m(\u001b[0m\u001b[0mx\u001b[0m\u001b[1;33m)\u001b[0m \u001b[1;32mfor\u001b[0m \u001b[0mx\u001b[0m \u001b[1;32min\u001b[0m \u001b[0mdata\u001b[0m\u001b[1;33m[\u001b[0m\u001b[1;34m'identity'\u001b[0m\u001b[1;33m]\u001b[0m\u001b[1;33m.\u001b[0m\u001b[0munique\u001b[0m\u001b[1;33m(\u001b[0m\u001b[1;33m)\u001b[0m\u001b[1;33m]\u001b[0m\u001b[1;33m\u001b[0m\u001b[0m\n\u001b[0m",
      "\u001b[1;32m~\\AppData\\Roaming\\Python\\Python37\\site-packages\\pandas\\core\\series.py\u001b[0m in \u001b[0;36mcount\u001b[1;34m(self, level)\u001b[0m\n\u001b[0;32m   1419\u001b[0m \u001b[1;33m\u001b[0m\u001b[0m\n\u001b[0;32m   1420\u001b[0m         \u001b[1;32mif\u001b[0m \u001b[0misinstance\u001b[0m\u001b[1;33m(\u001b[0m\u001b[0mlevel\u001b[0m\u001b[1;33m,\u001b[0m \u001b[0mcompat\u001b[0m\u001b[1;33m.\u001b[0m\u001b[0mstring_types\u001b[0m\u001b[1;33m)\u001b[0m\u001b[1;33m:\u001b[0m\u001b[1;33m\u001b[0m\u001b[0m\n\u001b[1;32m-> 1421\u001b[1;33m             \u001b[0mlevel\u001b[0m \u001b[1;33m=\u001b[0m \u001b[0mself\u001b[0m\u001b[1;33m.\u001b[0m\u001b[0mindex\u001b[0m\u001b[1;33m.\u001b[0m\u001b[0m_get_level_number\u001b[0m\u001b[1;33m(\u001b[0m\u001b[0mlevel\u001b[0m\u001b[1;33m)\u001b[0m\u001b[1;33m\u001b[0m\u001b[0m\n\u001b[0m\u001b[0;32m   1422\u001b[0m \u001b[1;33m\u001b[0m\u001b[0m\n\u001b[0;32m   1423\u001b[0m         \u001b[0mlev\u001b[0m \u001b[1;33m=\u001b[0m \u001b[0mself\u001b[0m\u001b[1;33m.\u001b[0m\u001b[0mindex\u001b[0m\u001b[1;33m.\u001b[0m\u001b[0mlevels\u001b[0m\u001b[1;33m[\u001b[0m\u001b[0mlevel\u001b[0m\u001b[1;33m]\u001b[0m\u001b[1;33m\u001b[0m\u001b[0m\n",
      "\u001b[1;32m~\\AppData\\Roaming\\Python\\Python37\\site-packages\\pandas\\core\\indexes\\base.py\u001b[0m in \u001b[0;36m_get_level_number\u001b[1;34m(self, level)\u001b[0m\n\u001b[0;32m   1959\u001b[0m \u001b[1;33m\u001b[0m\u001b[0m\n\u001b[0;32m   1960\u001b[0m     \u001b[1;32mdef\u001b[0m \u001b[0m_get_level_number\u001b[0m\u001b[1;33m(\u001b[0m\u001b[0mself\u001b[0m\u001b[1;33m,\u001b[0m \u001b[0mlevel\u001b[0m\u001b[1;33m)\u001b[0m\u001b[1;33m:\u001b[0m\u001b[1;33m\u001b[0m\u001b[0m\n\u001b[1;32m-> 1961\u001b[1;33m         \u001b[0mself\u001b[0m\u001b[1;33m.\u001b[0m\u001b[0m_validate_index_level\u001b[0m\u001b[1;33m(\u001b[0m\u001b[0mlevel\u001b[0m\u001b[1;33m)\u001b[0m\u001b[1;33m\u001b[0m\u001b[0m\n\u001b[0m\u001b[0;32m   1962\u001b[0m         \u001b[1;32mreturn\u001b[0m \u001b[1;36m0\u001b[0m\u001b[1;33m\u001b[0m\u001b[0m\n\u001b[0;32m   1963\u001b[0m \u001b[1;33m\u001b[0m\u001b[0m\n",
      "\u001b[1;32m~\\AppData\\Roaming\\Python\\Python37\\site-packages\\pandas\\core\\indexes\\base.py\u001b[0m in \u001b[0;36m_validate_index_level\u001b[1;34m(self, level)\u001b[0m\n\u001b[0;32m   1956\u001b[0m         \u001b[1;32melif\u001b[0m \u001b[0mlevel\u001b[0m \u001b[1;33m!=\u001b[0m \u001b[0mself\u001b[0m\u001b[1;33m.\u001b[0m\u001b[0mname\u001b[0m\u001b[1;33m:\u001b[0m\u001b[1;33m\u001b[0m\u001b[0m\n\u001b[0;32m   1957\u001b[0m             raise KeyError('Level %s must be same as name (%s)' %\n\u001b[1;32m-> 1958\u001b[1;33m                            (level, self.name))\n\u001b[0m\u001b[0;32m   1959\u001b[0m \u001b[1;33m\u001b[0m\u001b[0m\n\u001b[0;32m   1960\u001b[0m     \u001b[1;32mdef\u001b[0m \u001b[0m_get_level_number\u001b[0m\u001b[1;33m(\u001b[0m\u001b[0mself\u001b[0m\u001b[1;33m,\u001b[0m \u001b[0mlevel\u001b[0m\u001b[1;33m)\u001b[0m\u001b[1;33m:\u001b[0m\u001b[1;33m\u001b[0m\u001b[0m\n",
      "\u001b[1;31mKeyError\u001b[0m: 'Level 乐趣网客服 must be same as name (None)'"
     ]
    }
   ],
   "source": [
    "[data['identity'].count(x) for x in data['identity'].unique()]"
   ]
  },
  {
   "cell_type": "code",
   "execution_count": 172,
   "metadata": {},
   "outputs": [],
   "source": [
    "levels = data['identity'].value_counts()"
   ]
  },
  {
   "cell_type": "code",
   "execution_count": 183,
   "metadata": {},
   "outputs": [
    {
     "data": {
      "text/plain": [
       "Lv2 兵士           1334\n",
       "Lv3 偏将           1088\n",
       "Lv4 护军            900\n",
       "Lv5 骠骑将军          573\n",
       "Lv7 大司马           441\n",
       "Lv6 大将军           371\n",
       "Lv8 丞相            181\n",
       "SNSFun - BAN1      96\n",
       "Lv9 诸侯             38\n",
       "乐趣网客服               3\n",
       "超级版主                1\n",
       "Name: identity, dtype: int64"
      ]
     },
     "execution_count": 183,
     "metadata": {},
     "output_type": "execute_result"
    }
   ],
   "source": [
    "levels"
   ]
  },
  {
   "cell_type": "code",
   "execution_count": 174,
   "metadata": {},
   "outputs": [
    {
     "data": {
      "text/plain": [
       "Index(['Lv2 兵士', 'Lv3 偏将', 'Lv4 护军', 'Lv5 骠骑将军', 'Lv7 大司马', 'Lv6 大将军',\n",
       "       'Lv8 丞相', 'SNSFun - BAN1', 'Lv9 诸侯', '乐趣网客服', '勋章颁发', '超级版主'],\n",
       "      dtype='object')"
      ]
     },
     "execution_count": 174,
     "metadata": {},
     "output_type": "execute_result"
    }
   ],
   "source": [
    "levels.index"
   ]
  },
  {
   "cell_type": "code",
   "execution_count": 182,
   "metadata": {},
   "outputs": [
    {
     "ename": "KeyError",
     "evalue": "\"['勋章颁发'] not found in axis\"",
     "output_type": "error",
     "traceback": [
      "\u001b[1;31m---------------------------------------------------------------------------\u001b[0m",
      "\u001b[1;31mKeyError\u001b[0m                                  Traceback (most recent call last)",
      "\u001b[1;32m<ipython-input-182-60771768bd54>\u001b[0m in \u001b[0;36m<module>\u001b[1;34m()\u001b[0m\n\u001b[1;32m----> 1\u001b[1;33m \u001b[0mlevels\u001b[0m \u001b[1;33m=\u001b[0m \u001b[0mlevels\u001b[0m\u001b[1;33m.\u001b[0m\u001b[0mdrop\u001b[0m\u001b[1;33m(\u001b[0m\u001b[1;34m'勋章颁发'\u001b[0m\u001b[1;33m)\u001b[0m\u001b[1;33m\u001b[0m\u001b[0m\n\u001b[0m\u001b[0;32m      2\u001b[0m \u001b[0mlevels\u001b[0m\u001b[1;33m\u001b[0m\u001b[0m\n",
      "\u001b[1;32m~\\AppData\\Roaming\\Python\\Python37\\site-packages\\pandas\\core\\series.py\u001b[0m in \u001b[0;36mdrop\u001b[1;34m(self, labels, axis, index, columns, level, inplace, errors)\u001b[0m\n\u001b[0;32m   3414\u001b[0m         return super(Series, self).drop(labels=labels, axis=axis, index=index,\n\u001b[0;32m   3415\u001b[0m                                         \u001b[0mcolumns\u001b[0m\u001b[1;33m=\u001b[0m\u001b[0mcolumns\u001b[0m\u001b[1;33m,\u001b[0m \u001b[0mlevel\u001b[0m\u001b[1;33m=\u001b[0m\u001b[0mlevel\u001b[0m\u001b[1;33m,\u001b[0m\u001b[1;33m\u001b[0m\u001b[0m\n\u001b[1;32m-> 3416\u001b[1;33m                                         inplace=inplace, errors=errors)\n\u001b[0m\u001b[0;32m   3417\u001b[0m \u001b[1;33m\u001b[0m\u001b[0m\n\u001b[0;32m   3418\u001b[0m     \u001b[1;33m@\u001b[0m\u001b[0mSubstitution\u001b[0m\u001b[1;33m(\u001b[0m\u001b[1;33m**\u001b[0m\u001b[0m_shared_doc_kwargs\u001b[0m\u001b[1;33m)\u001b[0m\u001b[1;33m\u001b[0m\u001b[0m\n",
      "\u001b[1;32m~\\AppData\\Roaming\\Python\\Python37\\site-packages\\pandas\\core\\generic.py\u001b[0m in \u001b[0;36mdrop\u001b[1;34m(self, labels, axis, index, columns, level, inplace, errors)\u001b[0m\n\u001b[0;32m   3109\u001b[0m         \u001b[1;32mfor\u001b[0m \u001b[0maxis\u001b[0m\u001b[1;33m,\u001b[0m \u001b[0mlabels\u001b[0m \u001b[1;32min\u001b[0m \u001b[0maxes\u001b[0m\u001b[1;33m.\u001b[0m\u001b[0mitems\u001b[0m\u001b[1;33m(\u001b[0m\u001b[1;33m)\u001b[0m\u001b[1;33m:\u001b[0m\u001b[1;33m\u001b[0m\u001b[0m\n\u001b[0;32m   3110\u001b[0m             \u001b[1;32mif\u001b[0m \u001b[0mlabels\u001b[0m \u001b[1;32mis\u001b[0m \u001b[1;32mnot\u001b[0m \u001b[1;32mNone\u001b[0m\u001b[1;33m:\u001b[0m\u001b[1;33m\u001b[0m\u001b[0m\n\u001b[1;32m-> 3111\u001b[1;33m                 \u001b[0mobj\u001b[0m \u001b[1;33m=\u001b[0m \u001b[0mobj\u001b[0m\u001b[1;33m.\u001b[0m\u001b[0m_drop_axis\u001b[0m\u001b[1;33m(\u001b[0m\u001b[0mlabels\u001b[0m\u001b[1;33m,\u001b[0m \u001b[0maxis\u001b[0m\u001b[1;33m,\u001b[0m \u001b[0mlevel\u001b[0m\u001b[1;33m=\u001b[0m\u001b[0mlevel\u001b[0m\u001b[1;33m,\u001b[0m \u001b[0merrors\u001b[0m\u001b[1;33m=\u001b[0m\u001b[0merrors\u001b[0m\u001b[1;33m)\u001b[0m\u001b[1;33m\u001b[0m\u001b[0m\n\u001b[0m\u001b[0;32m   3112\u001b[0m \u001b[1;33m\u001b[0m\u001b[0m\n\u001b[0;32m   3113\u001b[0m         \u001b[1;32mif\u001b[0m \u001b[0minplace\u001b[0m\u001b[1;33m:\u001b[0m\u001b[1;33m\u001b[0m\u001b[0m\n",
      "\u001b[1;32m~\\AppData\\Roaming\\Python\\Python37\\site-packages\\pandas\\core\\generic.py\u001b[0m in \u001b[0;36m_drop_axis\u001b[1;34m(self, labels, axis, level, errors)\u001b[0m\n\u001b[0;32m   3141\u001b[0m                 \u001b[0mnew_axis\u001b[0m \u001b[1;33m=\u001b[0m \u001b[0maxis\u001b[0m\u001b[1;33m.\u001b[0m\u001b[0mdrop\u001b[0m\u001b[1;33m(\u001b[0m\u001b[0mlabels\u001b[0m\u001b[1;33m,\u001b[0m \u001b[0mlevel\u001b[0m\u001b[1;33m=\u001b[0m\u001b[0mlevel\u001b[0m\u001b[1;33m,\u001b[0m \u001b[0merrors\u001b[0m\u001b[1;33m=\u001b[0m\u001b[0merrors\u001b[0m\u001b[1;33m)\u001b[0m\u001b[1;33m\u001b[0m\u001b[0m\n\u001b[0;32m   3142\u001b[0m             \u001b[1;32melse\u001b[0m\u001b[1;33m:\u001b[0m\u001b[1;33m\u001b[0m\u001b[0m\n\u001b[1;32m-> 3143\u001b[1;33m                 \u001b[0mnew_axis\u001b[0m \u001b[1;33m=\u001b[0m \u001b[0maxis\u001b[0m\u001b[1;33m.\u001b[0m\u001b[0mdrop\u001b[0m\u001b[1;33m(\u001b[0m\u001b[0mlabels\u001b[0m\u001b[1;33m,\u001b[0m \u001b[0merrors\u001b[0m\u001b[1;33m=\u001b[0m\u001b[0merrors\u001b[0m\u001b[1;33m)\u001b[0m\u001b[1;33m\u001b[0m\u001b[0m\n\u001b[0m\u001b[0;32m   3144\u001b[0m             \u001b[0mresult\u001b[0m \u001b[1;33m=\u001b[0m \u001b[0mself\u001b[0m\u001b[1;33m.\u001b[0m\u001b[0mreindex\u001b[0m\u001b[1;33m(\u001b[0m\u001b[1;33m**\u001b[0m\u001b[1;33m{\u001b[0m\u001b[0maxis_name\u001b[0m\u001b[1;33m:\u001b[0m \u001b[0mnew_axis\u001b[0m\u001b[1;33m}\u001b[0m\u001b[1;33m)\u001b[0m\u001b[1;33m\u001b[0m\u001b[0m\n\u001b[0;32m   3145\u001b[0m \u001b[1;33m\u001b[0m\u001b[0m\n",
      "\u001b[1;32m~\\AppData\\Roaming\\Python\\Python37\\site-packages\\pandas\\core\\indexes\\base.py\u001b[0m in \u001b[0;36mdrop\u001b[1;34m(self, labels, errors)\u001b[0m\n\u001b[0;32m   4402\u001b[0m             \u001b[1;32mif\u001b[0m \u001b[0merrors\u001b[0m \u001b[1;33m!=\u001b[0m \u001b[1;34m'ignore'\u001b[0m\u001b[1;33m:\u001b[0m\u001b[1;33m\u001b[0m\u001b[0m\n\u001b[0;32m   4403\u001b[0m                 raise KeyError(\n\u001b[1;32m-> 4404\u001b[1;33m                     '{} not found in axis'.format(labels[mask]))\n\u001b[0m\u001b[0;32m   4405\u001b[0m             \u001b[0mindexer\u001b[0m \u001b[1;33m=\u001b[0m \u001b[0mindexer\u001b[0m\u001b[1;33m[\u001b[0m\u001b[1;33m~\u001b[0m\u001b[0mmask\u001b[0m\u001b[1;33m]\u001b[0m\u001b[1;33m\u001b[0m\u001b[0m\n\u001b[0;32m   4406\u001b[0m         \u001b[1;32mreturn\u001b[0m \u001b[0mself\u001b[0m\u001b[1;33m.\u001b[0m\u001b[0mdelete\u001b[0m\u001b[1;33m(\u001b[0m\u001b[0mindexer\u001b[0m\u001b[1;33m)\u001b[0m\u001b[1;33m\u001b[0m\u001b[0m\n",
      "\u001b[1;31mKeyError\u001b[0m: \"['勋章颁发'] not found in axis\""
     ]
    }
   ],
   "source": [
    "levels = levels.drop('勋章颁发')\n",
    "levels"
   ]
  },
  {
   "cell_type": "code",
   "execution_count": 177,
   "metadata": {},
   "outputs": [
    {
     "data": {
      "text/plain": [
       "Index(['Lv2 兵士', 'Lv3 偏将', 'Lv4 护军', 'Lv5 骠骑将军', 'Lv7 大司马', 'Lv6 大将军',\n",
       "       'Lv8 丞相', 'SNSFun - BAN1', 'Lv9 诸侯', '乐趣网客服', '超级版主'],\n",
       "      dtype='object')"
      ]
     },
     "execution_count": 177,
     "metadata": {},
     "output_type": "execute_result"
    }
   ],
   "source": [
    "levels.index"
   ]
  },
  {
   "cell_type": "code",
   "execution_count": 181,
   "metadata": {},
   "outputs": [
    {
     "data": {
      "text/plain": [
       "array([1334, 1088,  900,  573,  441,  371,  181,   96,   38,    3,    1],\n",
       "      dtype=int64)"
      ]
     },
     "execution_count": 181,
     "metadata": {},
     "output_type": "execute_result"
    }
   ],
   "source": [
    "levels.get_values()"
   ]
  },
  {
   "cell_type": "code",
   "execution_count": null,
   "metadata": {},
   "outputs": [],
   "source": []
  }
 ],
 "metadata": {
  "kernelspec": {
   "display_name": "Python 3",
   "language": "python",
   "name": "python3"
  },
  "language_info": {
   "codemirror_mode": {
    "name": "ipython",
    "version": 3
   },
   "file_extension": ".py",
   "mimetype": "text/x-python",
   "name": "python",
   "nbconvert_exporter": "python",
   "pygments_lexer": "ipython3",
   "version": "3.7.0"
  }
 },
 "nbformat": 4,
 "nbformat_minor": 2
}
